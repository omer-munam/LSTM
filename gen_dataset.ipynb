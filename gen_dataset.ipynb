{
 "metadata": {
  "language_info": {
   "codemirror_mode": {
    "name": "ipython",
    "version": 3
   },
   "file_extension": ".py",
   "mimetype": "text/x-python",
   "name": "python",
   "nbconvert_exporter": "python",
   "pygments_lexer": "ipython3",
   "version": "3.7.3"
  },
  "orig_nbformat": 2,
  "kernelspec": {
   "name": "python373jvsc74a57bd0b3ba2566441a7c06988d0923437866b63cedc61552a5af99d1f4fb67d367b25f",
   "display_name": "Python 3.7.3 64-bit ('base': conda)"
  }
 },
 "nbformat": 4,
 "nbformat_minor": 2,
 "cells": [
  {
   "cell_type": "code",
   "execution_count": 15,
   "metadata": {},
   "outputs": [
    {
     "output_type": "stream",
     "name": "stdout",
     "text": [
      "Requirement already satisfied: opencv-python in c:\\programdata\\anaconda3\\lib\\site-packages (4.5.1.48)\nRequirement already satisfied: numpy>=1.14.5 in c:\\users\\omer_\\appdata\\roaming\\python\\python37\\site-packages (from opencv-python) (1.18.5)\n"
     ]
    }
   ],
   "source": [
    "!pip install opencv-python"
   ]
  },
  {
   "cell_type": "code",
   "execution_count": 16,
   "metadata": {},
   "outputs": [],
   "source": [
    "import cv2\n",
    "import time\n",
    "vid_capture = cv2.VideoCapture(0)\n",
    "vid_cod = cv2.VideoWriter_fourcc(*'MP4V')\n",
    "reg_num = input(\"Enter Reg Number:  \")\n",
    "output1 = cv2.VideoWriter(\"./video/\"+reg_num+\"_suspicious.mp4\", vid_cod, 20.0, (640,480))"
   ]
  },
  {
   "cell_type": "code",
   "execution_count": 17,
   "metadata": {},
   "outputs": [],
   "source": [
    "length = 0\n",
    "while(length<240):\n",
    "    #  time.sleep(0.5)\n",
    "     ret,frame = vid_capture.read()\n",
    "     output1.write(frame)\n",
    "     frame = cv2.putText(frame, str(length), (0,50), cv2.FONT_HERSHEY_SIMPLEX, 1, (0, 255, 0), 2, cv2.LINE_AA)\n",
    "     cv2.imshow(\"My cam video\", frame)\n",
    "     length += 1 \n",
    "     if cv2.waitKey(1) &0XFF == ord('t'):\n",
    "         break"
   ]
  },
  {
   "cell_type": "code",
   "execution_count": 18,
   "metadata": {},
   "outputs": [],
   "source": [
    "vid_capture.release()\n",
    "output1.release()\n",
    "cv2.destroyAllWindows()"
   ]
  },
  {
   "cell_type": "code",
   "execution_count": 19,
   "metadata": {},
   "outputs": [],
   "source": [
    "vid_capture = cv2.VideoCapture(0)\n",
    "output2 = cv2.VideoWriter(\"./video/\"+reg_num+\"_clean.mp4\", vid_cod, 20.0, (640,480))"
   ]
  },
  {
   "cell_type": "code",
   "execution_count": 20,
   "metadata": {},
   "outputs": [],
   "source": [
    "length = 0\n",
    "while(length<240):\n",
    "    #  time.sleep(0.5)\n",
    "     ret,frame = vid_capture.read()\n",
    "     output2.write(frame)\n",
    "     frame = cv2.putText(frame, str(length), (0,50), cv2.FONT_HERSHEY_SIMPLEX, 1, (0, 255, 0), 2, cv2.LINE_AA)\n",
    "     cv2.imshow(\"My cam video\", frame)\n",
    "     length += 1 \n",
    "     if cv2.waitKey(1) &0XFF == ord('t'):\n",
    "         break"
   ]
  },
  {
   "cell_type": "code",
   "execution_count": 21,
   "metadata": {},
   "outputs": [],
   "source": [
    "vid_capture.release()\n",
    "output2.release()\n",
    "cv2.destroyAllWindows()"
   ]
  }
 ]
}